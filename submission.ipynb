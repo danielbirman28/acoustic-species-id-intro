{
 "cells": [
  {
   "cell_type": "code",
   "execution_count": 1,
   "id": "8c5c4a65",
   "metadata": {},
   "outputs": [],
   "source": [
    "import pandas as pd\n",
    "from random import sample"
   ]
  },
  {
   "cell_type": "code",
   "execution_count": 2,
   "id": "ffefadf5",
   "metadata": {},
   "outputs": [
    {
     "name": "stdout",
     "output_type": "stream",
     "text": [
      "True\n"
     ]
    }
   ],
   "source": [
    "def create_stratified_sample(input_csv_path):\n",
    "    try:\n",
    "        # Read in the original csv file\n",
    "        audio_files = pd.read_csv(input_csv_path, low_memory=False)\n",
    "        \n",
    "        # Here I filter the csv file by duration and start time\n",
    "        filtered_by_duration = audio_files[(audio_files['Duration'] >= 60) & (~audio_files['StartDateTime'].isna())].copy()\n",
    "\n",
    "        # Create list of valid AudioMoth devices since some have known issues\n",
    "        valid_devices = filtered_by_duration['AudioMothCode'].value_counts()\n",
    "        excluded_devices = ['AM-21', 'AM-19', 'AM-8', 'AM-28']\n",
    "        valid_audio_moths = valid_devices[(valid_devices >= 24) & (~valid_devices.index.isin(excluded_devices))].index.tolist()\n",
    "\n",
    "        # Column for the hour the file was recorded\n",
    "        filtered_by_duration['Hour'] = filtered_by_duration['Comment'].str.extract(r'(\\d{2}):')[0].astype(int)\n",
    "\n",
    "        # Initialize DataFrame for stratified sample\n",
    "        stratified_sample = pd.DataFrame(columns=filtered_by_duration.columns)\n",
    "\n",
    "        # Operation for random selection of data\n",
    "        for audio_moth in valid_audio_moths:\n",
    "            specific_audio_moth = filtered_by_duration[filtered_by_duration['AudioMothCode'] == audio_moth]\n",
    "            for hour in range(24):\n",
    "                specific_hour_of_audio_moth = specific_audio_moth[specific_audio_moth['Hour'] == hour]\n",
    "                if not specific_hour_of_audio_moth.empty:\n",
    "                    randomly_chosen_files = sample(specific_hour_of_audio_moth.index.tolist(), min(len(specific_hour_of_audio_moth), 24))\n",
    "                    stratified_sample = stratified_sample.append(specific_hour_of_audio_moth.loc[randomly_chosen_files])\n",
    "\n",
    "        # Here is where we save the outputed file\n",
    "        stratified_sample.to_csv('output.csv', index=False)\n",
    "        \n",
    "        return True\n",
    "    except Exception as e:\n",
    "        print(f\"Error: {e}\")\n",
    "        return False\n",
    "\n",
    "# Example usage\n",
    "success = create_stratified_sample('Peru_2019_AudioMoth_Data_Full.csv')\n",
    "print(success)"
   ]
  }
 ],
 "metadata": {
  "kernelspec": {
   "display_name": "Python 3 (ipykernel)",
   "language": "python",
   "name": "python3"
  },
  "language_info": {
   "codemirror_mode": {
    "name": "ipython",
    "version": 3
   },
   "file_extension": ".py",
   "mimetype": "text/x-python",
   "name": "python",
   "nbconvert_exporter": "python",
   "pygments_lexer": "ipython3",
   "version": "3.8.19"
  }
 },
 "nbformat": 4,
 "nbformat_minor": 5
}
